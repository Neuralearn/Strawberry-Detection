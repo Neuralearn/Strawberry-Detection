{
 "cells": [
  {
   "cell_type": "code",
   "execution_count": 1,
   "metadata": {},
   "outputs": [],
   "source": [
    "import json\n",
    "import xml.etree.ElementTree as ET"
   ]
  },
  {
   "cell_type": "code",
   "execution_count": 6,
   "metadata": {},
   "outputs": [],
   "source": [
    "def data_to_xml(image_width, image_height, image_filename, boxes, classes):\n",
    "    annotation = ET.Element('annotation')\n",
    "\n",
    "\n",
    "    filename = ET.SubElement(annotation, 'filename')\n",
    "    filename.text = image_filename\n",
    "\n",
    "\n",
    "    size = ET.SubElement(annotation, 'size')\n",
    "\n",
    "    width = ET.SubElement(size, 'width')\n",
    "    width.text = image_width\n",
    "    height = ET.SubElement(size, 'height')\n",
    "    height.text = image_height\n",
    "    depth = ET.SubElement(size, 'depth')\n",
    "    depth.text = '3'\n",
    "\n",
    "    for i in range(len(classes)):\n",
    "\n",
    "        object = ET.SubElement(annotation, 'object')\n",
    "\n",
    "        name = ET.SubElement(object, 'name')\n",
    "        name.text = classes[i].lower()\n",
    "\n",
    "        bndbox = ET.SubElement(object, 'bndbox')\n",
    "\n",
    "        xmin = ET.SubElement(bndbox, 'xmin')\n",
    "        xmin.text = boxes[i][0]\n",
    "        ymin = ET.SubElement(bndbox, 'ymin')\n",
    "        ymin.text = boxes[i][1]\n",
    "        xmax = ET.SubElement(bndbox, 'xmax')\n",
    "        xmax.text = boxes[i][2]\n",
    "        ymax = ET.SubElement(bndbox, 'ymax')\n",
    "        ymax.text = boxes[i][3]\n",
    "\n",
    "\n",
    "\n",
    "\n",
    "    b_xml = ET.tostring(annotation)\n",
    "\n",
    "    image_filename = image_filename[:-4]\n",
    "    with open(\"annotations/\" + image_filename + \".xml\", \"wb\") as f:\n",
    "        f.write(b_xml)\n",
    "    return None"
   ]
  },
  {
   "cell_type": "code",
   "execution_count": 7,
   "metadata": {},
   "outputs": [],
   "source": [
    "with open('fruits.json') as f:\n",
    "    data = json.load(f)\n",
    "\n",
    "for i in range(len(data)):\n",
    "\n",
    "    image_width = str(data[i][\"width\"])\n",
    "    image_height = str(data[i][\"height\"])\n",
    "    image_filename = str(data[i][\"file_name\"])\n",
    "\n",
    "    boxes = []\n",
    "    classes = []\n",
    "    for j in range(len(data[i]['annotations'])):\n",
    "        boxes.append([str(data[i]['annotations'][j][\"bbox\"]['xmin']), str(data[i]['annotations'][j][\"bbox\"]['ymin']), \n",
    "                      str(data[i]['annotations'][j][\"bbox\"]['xmax']), str(data[i]['annotations'][j][\"bbox\"]['ymax'])])\n",
    "        \n",
    "        try:\n",
    "            classes.append(data[i]['annotations'][j][\"classes\"][0])\n",
    "        except:\n",
    "            print(\"Error\")\n",
    "\n",
    "    data_to_xml(image_width, image_height, image_filename, boxes, classes)"
   ]
  },
  {
   "cell_type": "code",
   "execution_count": null,
   "metadata": {},
   "outputs": [],
   "source": []
  },
  {
   "cell_type": "code",
   "execution_count": null,
   "metadata": {},
   "outputs": [],
   "source": []
  },
  {
   "cell_type": "code",
   "execution_count": null,
   "metadata": {
    "scrolled": true
   },
   "outputs": [],
   "source": []
  },
  {
   "cell_type": "code",
   "execution_count": null,
   "metadata": {},
   "outputs": [],
   "source": []
  }
 ],
 "metadata": {
  "kernelspec": {
   "display_name": "Python 3",
   "language": "python",
   "name": "python3"
  },
  "language_info": {
   "codemirror_mode": {
    "name": "ipython",
    "version": 3
   },
   "file_extension": ".py",
   "mimetype": "text/x-python",
   "name": "python",
   "nbconvert_exporter": "python",
   "pygments_lexer": "ipython3",
   "version": "3.7.4"
  }
 },
 "nbformat": 4,
 "nbformat_minor": 4
}
